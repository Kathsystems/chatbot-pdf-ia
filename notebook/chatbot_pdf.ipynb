from langchain.embeddings import OpenAIEmbeddings
from langchain.vectorstores import FAISS
from langchain.text_splitter import CharacterTextSplitter
from langchain.document_loaders import TextLoader
from langchain.chains.question_answering import load_qa_chain
from langchain.llms import OpenAI
from dotenv import load_dotenv
import os

load_dotenv()

# Carrega texto
loader = TextLoader("inputs/exemplo.txt")
documents = loader.load()

# Divide em partes
text_splitter = CharacterTextSplitter(chunk_size=500, chunk_overlap=100)
texts = text_splitter.split_documents(documents)

# Embeddings e FAISS
embeddings = OpenAIEmbeddings()
db = FAISS.from_documents(texts, embeddings)

# Consulta com Langchain + OpenAI
query = "O que o texto fala sobre inteligência artificial?"
docs = db.similarity_search(query)
chain = load_qa_chain(OpenAI(temperature=0), chain_type="stuff")
resposta = chain.run(input_documents=docs, question=query)

print(resposta)
